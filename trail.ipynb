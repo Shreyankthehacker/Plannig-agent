{
 "cells": [
  {
   "cell_type": "code",
   "execution_count": 25,
   "metadata": {},
   "outputs": [
    {
     "data": {
      "text/plain": [
       "True"
      ]
     },
     "execution_count": 25,
     "metadata": {},
     "output_type": "execute_result"
    }
   ],
   "source": [
    "from dotenv import load_dotenv\n",
    "from langchain.prompts import ChatPromptTemplate\n",
    "from langchain_google_genai import ChatGoogleGenerativeAI\n",
    "from langgraph.graph import StateGraph, START, END\n",
    "import re\n",
    "from serpapi import GoogleSearch\n",
    "import wikipedia\n",
    "from langchain_community.tools.tavily_search import TavilySearchResults\n",
    "from langchain_core.tools import tool\n",
    "import re\n",
    "from jupyter_client import KernelManager\n",
    "import ast\n",
    "import operator\n",
    "load_dotenv()"
   ]
  },
  {
   "cell_type": "code",
   "execution_count": 26,
   "metadata": {},
   "outputs": [],
   "source": [
    "from typing import List, Optional, Any,Annotated\n",
    "from pydantic import BaseModel, Field\n",
    "\n",
    "class GraphState(BaseModel):\n",
    "    user_query: str = Field(..., description=\"The original input question or request from the user.\")\n",
    "    tasks: List[str] = Field(default_factory=list, description=\"List of sub-tasks generated from the user query.\")\n",
    "    tool: List[str] = Field(default_factory=list, description=\"List of the tools to be used for the particular task.\")\n",
    "    current_task_index: int = Field(default=0, description=\"Index of the task currently being processed.\")\n",
    "    final_output: Annotated[List[str], operator.add] = Field(default=None, description=\"Final result to be returned to the user.\")\n",
    "    grade:int \n"
   ]
  },
  {
   "cell_type": "code",
   "execution_count": 27,
   "metadata": {},
   "outputs": [],
   "source": [
    "\n",
    "\n",
    "llm = ChatGoogleGenerativeAI(model = 'gemini-1.5-flash')\n",
    "\n",
    "\n",
    "    "
   ]
  },
  {
   "cell_type": "code",
   "execution_count": 113,
   "metadata": {},
   "outputs": [],
   "source": [
    "llm = ChatGoogleGenerativeAI(\n",
    "    model = \"gemini-1.5-flash\",\n",
    "    temperature = 0.7\n",
    ")"
   ]
  },
  {
   "cell_type": "code",
   "execution_count": 114,
   "metadata": {},
   "outputs": [],
   "source": [
    "# state = GraphState(user_query=\"I want to know ideas for my startup\")"
   ]
  },
  {
   "cell_type": "code",
   "execution_count": 115,
   "metadata": {},
   "outputs": [],
   "source": [
    "# state.tasks"
   ]
  },
  {
   "cell_type": "code",
   "execution_count": 116,
   "metadata": {},
   "outputs": [],
   "source": [
    "\n",
    "\n",
    "def run_in_jupyter_kernel(code: str) -> str:\n",
    "    \"\"\"\n",
    "    Executes Python code in a temporary Jupyter kernel and returns the output.\n",
    "    \n",
    "    Args:\n",
    "        code (str): Python code to execute.\n",
    "        \n",
    "    Returns:\n",
    "        str: Output from the execution (stdout or error).\n",
    "    \"\"\"\n",
    "    # Start a kernel\n",
    "    print('kernel')\n",
    "    km = KernelManager()\n",
    "    km.start_kernel()\n",
    "    kc = km.client()\n",
    "    kc.start_channels()\n",
    "\n",
    "    try:\n",
    "        # Send the code for execution\n",
    "        kc.execute(code)\n",
    "\n",
    "        # Collect output\n",
    "        output = \"\"\n",
    "        while True:\n",
    "            msg = kc.get_iopub_msg()\n",
    "            msg_type = msg['msg_type']\n",
    "\n",
    "            if msg_type == 'stream':\n",
    "                output += msg['content']['text']\n",
    "            elif msg_type == 'execute_result':\n",
    "                output += str(msg['content']['data']['text/plain'])\n",
    "            elif msg_type == 'error':\n",
    "                output += '\\n'.join(msg['content']['traceback'])\n",
    "            elif msg_type == 'status' and msg['content']['execution_state'] == 'idle':\n",
    "                break\n",
    "\n",
    "        return output.strip()\n",
    "\n",
    "    finally:\n",
    "        # Clean up kernel\n",
    "        kc.stop_channels()\n",
    "        km.shutdown_kernel()\n"
   ]
  },
  {
   "cell_type": "code",
   "execution_count": 117,
   "metadata": {},
   "outputs": [],
   "source": [
    "\n",
    "def extract_code_from_aimessage(message) -> str:\n",
    "    \"\"\"\n",
    "    Extracts and cleans Python code from an AIMessage with markdown-style triple backticks.\n",
    "    \"\"\"\n",
    "    # Extract the code block using regex\n",
    "    match = re.search(r\"```python(.*?)```\", message.content, re.DOTALL)\n",
    "    if match:\n",
    "        code = match.group(1).strip()\n",
    "        return code\n",
    "    else:\n",
    "        return message.content.strip()  # Fallback if no markdown code block found"
   ]
  },
  {
   "cell_type": "code",
   "execution_count": 28,
   "metadata": {},
   "outputs": [],
   "source": [
    "\n",
    "\n",
    "code_prompt = '''You are a Python developer helping solve a sub-task as part of a larger user query.\n",
    "\n",
    "Your job is to write clean, functional Python code that directly solves the following sub-task:\n",
    "\n",
    "Sub-task: {sub_task}\n",
    "\n",
    "Constraints:\n",
    "- Only output executable Python code (no explanations).\n",
    "- Assume standard Python libraries (like pandas, numpy, matplotlib, requests, etc.) are available.\n",
    "- If data is needed, generate a mock dataset inline or simulate it appropriately.\n",
    "- Include print statements for key outputs.\n",
    "- Code should be suitable for running in a Jupyter notebook cell.\n",
    "\n",
    "Now, write the code.\n",
    "'''\n",
    "\n",
    "\n",
    "def code_generation(state:GraphState):\n",
    "    '''Tool to generate code and also to execute it in the jupyter kernel to verify the output'''\n",
    "    task = state.tasks[state.current_task_index]\n",
    "    prompt = ChatPromptTemplate.from_template(template=code_prompt)\n",
    "    chain = prompt | llm \n",
    "    code = chain.invoke({'sub_task':task})\n",
    "    code = extract_code_from_aimessage(code)\n",
    "    output = run_in_jupyter_kernel(code)\n",
    "    return {'final_output':state.final_output+[f\"{task} \\n and the code is {code} \\n The output of the code generated is {output}\"]}\n",
    "\n",
    "\n",
    "\n",
    "\n",
    "    "
   ]
  },
  {
   "cell_type": "code",
   "execution_count": 119,
   "metadata": {},
   "outputs": [],
   "source": [
    "# state = GraphState(user_query = \"writing code\",final_output = [],tasks = ['write a code to print first 10 fibonacci numbers'],current_task_index=0)\n",
    "# op = code_generation(state)"
   ]
  },
  {
   "cell_type": "code",
   "execution_count": 120,
   "metadata": {},
   "outputs": [],
   "source": [
    "\n",
    "tavily = TavilySearchResults()\n",
    "\n",
    "def websearch(state:GraphState):\n",
    "    '''Tool to perform web search'''\n",
    "    print('search')\n",
    "    task = state.tasks[state.current_task_index]\n",
    "    results = tavily.invoke(task)\n",
    "    print(results)\n",
    "    return {'final_output':state.final_output+[f\"The output of the code generated is {results[0]['content']}\"]}\n"
   ]
  },
  {
   "cell_type": "code",
   "execution_count": 121,
   "metadata": {},
   "outputs": [],
   "source": [
    "# state = GraphState(user_query=\"Nothing\",current_task_index=0,tasks = ['Code for fibonacci number is ?'],final_output=[])\n",
    "# op = websearch(state)"
   ]
  },
  {
   "cell_type": "code",
   "execution_count": 122,
   "metadata": {},
   "outputs": [],
   "source": [
    "# print(op['final_output'][0])"
   ]
  },
  {
   "cell_type": "code",
   "execution_count": 123,
   "metadata": {},
   "outputs": [],
   "source": [
    "\n",
    "\n",
    "def wiki_explainer_tool(state:GraphState):\n",
    "    \"\"\"Explains a topic using Wikipedia summary.\"\"\"\n",
    "    print(\"wiki\")\n",
    "    task = state.tasks[state.current_task_index]\n",
    "    try:\n",
    "        out = wikipedia.summary(task, sentences=5)\n",
    "    except Exception as e:\n",
    "       return {\"final_output\":state.final_output}\n",
    "    return {\"final_output\":state.final_output+[f'The wikipedia says :: {out}']}"
   ]
  },
  {
   "cell_type": "code",
   "execution_count": 124,
   "metadata": {},
   "outputs": [],
   "source": [
    "# state"
   ]
  },
  {
   "cell_type": "code",
   "execution_count": 125,
   "metadata": {},
   "outputs": [],
   "source": [
    "# wiki_explainer_tool(state)"
   ]
  },
  {
   "cell_type": "code",
   "execution_count": null,
   "metadata": {},
   "outputs": [],
   "source": []
  },
  {
   "cell_type": "code",
   "execution_count": 126,
   "metadata": {},
   "outputs": [],
   "source": [
    "\n",
    "\n",
    "def youtube_search_serpapi(state: GraphState):\n",
    "    print(\"yt\")\n",
    "    params = {\n",
    "        \"engine\": \"youtube\",\n",
    "        \"search_query\": state.tasks[state.current_task_index],\n",
    "        \"api_key\":\"0900f7a2f830083d80385bc46c1ff1f1e6626da3f568de640fe13759e9655450\"\n",
    "    }\n",
    "\n",
    "    search = GoogleSearch(params)\n",
    "    results = search.get_dict()\n",
    "\n",
    "    videos = results.get(\"video_results\", [])[:5]\n",
    "    print(videos)\n",
    "    formatted_results = [\n",
    "        f\"{i + 1}. {v.get('title')}\\n   {v.get('link')}\"\n",
    "        for i, v in enumerate(videos)\n",
    "    ]\n",
    "\n",
    "    return { 'final_output': state.final_output + [\"Related youtube videso\" ] +formatted_results}\n",
    "\n"
   ]
  },
  {
   "cell_type": "code",
   "execution_count": 127,
   "metadata": {},
   "outputs": [],
   "source": [
    "# state = GraphState(user_query=\"Nothing\",current_task_index=0,tasks = ['Code for fibonacci number is ?'],final_output=[])\n",
    "# op = youtube_search_serpapi(state)\n"
   ]
  },
  {
   "cell_type": "code",
   "execution_count": 128,
   "metadata": {},
   "outputs": [],
   "source": [
    "# op"
   ]
  },
  {
   "cell_type": "code",
   "execution_count": 129,
   "metadata": {},
   "outputs": [],
   "source": [
    "PLANNING_PROMPT = \"\"\"\n",
    "You are an expert task planner AI that decomposes complex goals into minimal, actionable sub-tasks for an autonomous agent system.\n",
    "\n",
    "You have access to the following tools:\n",
    "- \"web_search\": Use this to search the internet for current or broad information.\n",
    "- \"code_writer\": Use this to generate or edit code.\n",
    "- \"code_executor\": Use this to run and test code snippets.\n",
    "- \"wikipedia_search\": Use this to retrieve structured knowledge from Wikipedia.\n",
    "- \"youtube_search\": Use this to find explanatory or educational videos.\n",
    "- \"text_generator\": Use this to write structured content, summaries, or descriptive text.\n",
    "\n",
    "Given the following user query:\n",
    "\n",
    "{user_query}\n",
    "\n",
    "Your job is to:\n",
    "- Understand the user's objective.\n",
    "- Break it down into the **smallest possible tasks**, ideally atomic steps that can be executed independently.\n",
    "- Ensure the tasks are written clearly, with no ambiguity.\n",
    "- Each task should describe **what** to do, not **how** to do it.\n",
    "- Assign the most appropriate tool to each task from the list provided.\n",
    "- Maintain a logical execution order from beginning to end.\n",
    "\n",
    "Just Return the output as a Python list of dictionaries, each containing:\n",
    "- \"task\": A clear, atomic action to be done\n",
    "- \"tool\": The most relevant tool to use for this task\n",
    "dont add anything before or after that\n",
    "\n",
    "\n",
    "Only return the list — do not include any explanation or extra text.\n",
    "\"\"\"\n"
   ]
  },
  {
   "cell_type": "code",
   "execution_count": 130,
   "metadata": {},
   "outputs": [],
   "source": [
    "\n",
    "def break_task(state: GraphState) :\n",
    "    print(\"breaking task\")\n",
    "    planning_prompt = ChatPromptTemplate.from_template(PLANNING_PROMPT)\n",
    "    planning_chain= planning_prompt | llm  \n",
    "\n",
    "\n",
    "    tasks = planning_chain.invoke({\"user_query\": state.user_query})\n",
    "\n",
    "    print(\"Planned Tasks:\", tasks)  \n",
    "    task_string = tasks.content\n",
    "    print(task_string)\n",
    "    match = re.search(r\"\\[.*\\]\", task_string, re.DOTALL)\n",
    "    if not match:\n",
    "        raise ValueError(\"No valid task list found in the string.\")\n",
    "    \n",
    "    task_list_str = match.group(0)\n",
    "    l =  ast.literal_eval(task_list_str)\n",
    "    task = []\n",
    "    tool = []\n",
    "    for i in list(l):\n",
    "        task.append(i['task'])\n",
    "        tool.append(i['tool'])\n",
    "    return {'tasks':task  , 'tool':tool,'grade':state.grade+1}\n",
    "\n",
    "    "
   ]
  },
  {
   "cell_type": "code",
   "execution_count": 131,
   "metadata": {},
   "outputs": [],
   "source": [
    "tools = [websearch,wiki_explainer_tool,code_generation,run_in_jupyter_kernel]\n",
    "\n",
    "llm = llm.bind_tools(tools = tools)"
   ]
  },
  {
   "cell_type": "code",
   "execution_count": 132,
   "metadata": {},
   "outputs": [],
   "source": [
    "# state = GraphState(user_query=\"Writing a code for fibonacci sequence\",current_task_index=0,tasks = [],final_output=[],task_outputs=[])\n",
    "# tasks = break_task(state)"
   ]
  },
  {
   "cell_type": "code",
   "execution_count": 133,
   "metadata": {},
   "outputs": [],
   "source": [
    "# tasks"
   ]
  },
  {
   "cell_type": "code",
   "execution_count": 134,
   "metadata": {},
   "outputs": [],
   "source": [
    "\n",
    "GRADE_PROMPT = '''\n",
    "\"Given the user's query: {userquery} and the AI's response: {final_answer}, evaluate the quality of the answer based on the following criteria:\n",
    "\n",
    "Relevance: Does the answer directly address the user's question? Is it on-topic?\n",
    "\n",
    "Clarity: Is the answer easy to understand? Are there any ambiguous or unclear sections?\n",
    "\n",
    "Accuracy: Does the answer provide factually correct and reliable information?\n",
    "\n",
    "Completeness: Does the answer cover all aspects of the user's query, or are there missing details?\n",
    "\n",
    "Tone and Professionalism: Does the response maintain a tone appropriate for the context, such as being polite, formal, or informative?\n",
    "\n",
    "Provide a score from 1 to 10 for each of these criteria, with 1 being very poor and 10 being excellent. Then, calculate an overall average score for the answer. If the score is below 6, suggest improvements to the AI’s response.\"\n",
    "\n",
    "Just and just give me a integer number nothing else \n",
    "'''\n",
    "\n"
   ]
  },
  {
   "cell_type": "code",
   "execution_count": 135,
   "metadata": {},
   "outputs": [],
   "source": [
    "def grading(state:GraphState):\n",
    "    print(\"grading\")\n",
    "    prompt = ChatPromptTemplate.from_template(template = GRADE_PROMPT )\n",
    "    chain = prompt | llm\n",
    "    grade = chain.invoke({'user_query':state.user_query,'final_answer':state.final_output})\n",
    "    return {'grade':grade}\n"
   ]
  },
  {
   "cell_type": "code",
   "execution_count": null,
   "metadata": {},
   "outputs": [
    {
     "data": {
      "text/plain": [
       "<langgraph.graph.state.StateGraph at 0x7e80cc14f6f0>"
      ]
     },
     "execution_count": 136,
     "metadata": {},
     "output_type": "execute_result"
    }
   ],
   "source": [
    "\n",
    "\n",
    "def router_node(state):\n",
    "    print(\"router node\")\n",
    "    task_names = [\n",
    "        \"code_generation\",\n",
    "        \"run_in_jupyter_kernel\"\n",
    "    ]\n",
    "    \n",
    "    \n",
    "    current_task = task_names[state.current_task_index]\n",
    "    return current_task\n",
    "\n",
    "def continue_or_not(state:GraphState):\n",
    "    print(\"continue or not \",state.grade)\n",
    "    if state.grade > 1:\n",
    "        return END  \n",
    "    else:\n",
    "        return \"break_task\"  \n",
    "\n",
    "\n",
    "builder = StateGraph(GraphState)\n",
    "\n",
    "\n",
    "builder.add_node(websearch)\n",
    "builder.add_node(wiki_explainer_tool)\n",
    "builder.add_node(code_generation)\n",
    "builder.add_node(run_in_jupyter_kernel)\n",
    "builder.add_node(youtube_search_serpapi)\n",
    "builder.add_node(grading)\n",
    "builder.add_node(break_task)\n",
    "\n",
    "\n",
    "builder.add_edge(START, \"break_task\")  \n",
    "builder.add_conditional_edges(\"break_task\", router_node)  \n",
    "builder.add_edge(\"break_task\",\"youtube_search_serpapi\")\n",
    "builder.add_edge(\"break_task\",\"wiki_explainer_tool\")\n",
    "builder.add_edge(\"break_task\",\"websearch\")\n",
    "builder.add_edge(\"websearch\", \"grading\")\n",
    "builder.add_edge(\"wiki_explainer_tool\", \"grading\")\n",
    "builder.add_edge(\"youtube_search_serpapi\", \"grading\")\n",
    "builder.add_edge(\"code_generation\", \"grading\")\n",
    "builder.add_edge(\"run_in_jupyter_kernel\", \"grading\")\n",
    "builder.add_conditional_edges(\"grading\", continue_or_not)  \n",
    "\n",
    "\n",
    "\n"
   ]
  },
  {
   "cell_type": "code",
   "execution_count": 137,
   "metadata": {},
   "outputs": [],
   "source": [
    "graph = builder.compile()"
   ]
  },
  {
   "cell_type": "code",
   "execution_count": 138,
   "metadata": {},
   "outputs": [
    {
     "name": "stdout",
     "output_type": "stream",
     "text": [
      "---\n",
      "config:\n",
      "  flowchart:\n",
      "    curve: linear\n",
      "---\n",
      "graph TD;\n",
      "\t__start__([<p>__start__</p>]):::first\n",
      "\twebsearch(websearch)\n",
      "\twiki_explainer_tool(wiki_explainer_tool)\n",
      "\tcode_generation(code_generation)\n",
      "\trun_in_jupyter_kernel(run_in_jupyter_kernel)\n",
      "\tyoutube_search_serpapi(youtube_search_serpapi)\n",
      "\tgrading(grading)\n",
      "\tbreak_task(break_task)\n",
      "\t__end__(<p>__end__</p>)\n",
      "\t__start__ --> break_task;\n",
      "\tbreak_task --> wiki_explainer_tool;\n",
      "\tbreak_task --> youtube_search_serpapi;\n",
      "\tcode_generation --> grading;\n",
      "\trun_in_jupyter_kernel --> grading;\n",
      "\twiki_explainer_tool --> grading;\n",
      "\tyoutube_search_serpapi --> grading;\n",
      "\tbreak_task -.-> websearch;\n",
      "\tbreak_task -.-> wiki_explainer_tool;\n",
      "\tbreak_task -.-> code_generation;\n",
      "\tbreak_task -.-> run_in_jupyter_kernel;\n",
      "\tbreak_task -.-> youtube_search_serpapi;\n",
      "\tbreak_task -.-> grading;\n",
      "\tbreak_task -.-> __end__;\n",
      "\tgrading -.-> websearch;\n",
      "\tgrading -.-> wiki_explainer_tool;\n",
      "\tgrading -.-> code_generation;\n",
      "\tgrading -.-> run_in_jupyter_kernel;\n",
      "\tgrading -.-> youtube_search_serpapi;\n",
      "\tgrading -.-> break_task;\n",
      "\tgrading -.-> __end__;\n",
      "\tclassDef default fill:#f2f0ff,line-height:1.2\n",
      "\tclassDef first fill-opacity:0\n",
      "\tclassDef last fill:#bfb6fc\n",
      "\n"
     ]
    }
   ],
   "source": [
    "print(graph.get_graph().draw_mermaid())"
   ]
  },
  {
   "cell_type": "code",
   "execution_count": 139,
   "metadata": {},
   "outputs": [],
   "source": [
    "# graph"
   ]
  },
  {
   "cell_type": "code",
   "execution_count": 140,
   "metadata": {},
   "outputs": [],
   "source": [
    "# state = GraphState(user_query=\"Writing a code for fibonacci sequence\",current_task_index=0,tasks = [],final_output=[],task_outputs=[],grade = 0)\n",
    "# # state =graph.invoke(state)"
   ]
  },
  {
   "cell_type": "code",
   "execution_count": 141,
   "metadata": {},
   "outputs": [],
   "source": [
    "# state"
   ]
  },
  {
   "cell_type": "code",
   "execution_count": 142,
   "metadata": {},
   "outputs": [],
   "source": [
    "# for i in state['final_output']:\n",
    "#     display(Markdown(i))\n"
   ]
  },
  {
   "cell_type": "code",
   "execution_count": null,
   "metadata": {},
   "outputs": [],
   "source": [
    "state = GraphState(user_query=\"Writing a code for fibonacci sequence\",current_task_index=0,tasks = [],final_output=[],task_outputs=[],grade = 0)\n",
    "config = {\"configurable\": {\"thread_id\": \"1\", \"user_id\": \"1\"}}\n",
    "state = graph.invoke(state,config=config)"
   ]
  },
  {
   "cell_type": "code",
   "execution_count": 2,
   "metadata": {},
   "outputs": [
    {
     "data": {
      "text/plain": [
       "{'user_query': 'Writing a code for fibonacci sequence',\n",
       " 'tasks': ['Generate Python code for calculating the Fibonacci sequence.',\n",
       "  'Test the generated code with a few inputs to verify its correctness.',\n",
       "  'Check if the code handles edge cases (e.g., negative inputs, zero input).',\n",
       "  'Optimize the code for efficiency if necessary (e.g., using dynamic programming or memoization).',\n",
       "  'Add comments and documentation to improve code readability.',\n",
       "  'If the code needs further improvements, iterate on steps 2-4.'],\n",
       " 'tool': ['code_writer',\n",
       "  'code_executor',\n",
       "  'code_executor',\n",
       "  'code_writer',\n",
       "  'code_writer',\n",
       "  'code_writer'],\n",
       " 'current_task_index': 0,\n",
       " 'final_output': ['The output of the code generated is Your first approach to generating the Fibonacci sequence will use a Python class and recursion. An advantage of using the class over the memoized recursive function you saw before is that a class keeps state and behavior (encapsulation) together within the same object. In the function example, however, cache is a completely separate object, so you don’t have control over it.\\nBelow is the code that implements your class-based solution:\\nPython\\n1# fibonacci_class.py\\n 2\\n 3class Fibonacci: [...] Now that you know the basics of how to generate the Fibonacci sequence, it’s time to go deeper and further explore the different ways to implement the underlying algorithm in Python. In the following sections, you’ll explore how to implement different algorithms to generate the Fibonacci sequence using recursion, Python object-oriented programming, and also iteration.\\nUsing Recursion and a Python Class [...] To calculate the Fibonacci number at position n, you store the first two numbers of the sequence, 0 and 1, in cache. Then, calculate the next numbers consecutively until you can return cache[n].\\nGenerating the Fibonacci Sequence in Python',\n",
       "  'The YouTube videos suggested are:',\n",
       "  '1. #38 Python Tutorial for Beginners | Fibonacci Sequence\\n   https://www.youtube.com/watch?v=7Sv4NmvdHcw',\n",
       "  '2. Generate the Fibonacci Sequence With Python\\n   https://www.youtube.com/watch?v=I_Giq4-2Pn8',\n",
       "  '3. How to Program Fibonacci Sequence Recursively | Python for Math\\n   https://www.youtube.com/watch?v=CsJ82I2I2Mo',\n",
       "  '4. How To Code Fibonacci Sequence In Python Using Recursion | Python for Beginners Tutorials\\n   https://www.youtube.com/watch?v=CQ5vCkdPZTM',\n",
       "  '5. Python Tutorial - 2 Ways To Calculate The Fibonacci Sequence\\n   https://www.youtube.com/watch?v=ww4l0YR9GUk'],\n",
       " 'grade': 3}"
      ]
     },
     "execution_count": 2,
     "metadata": {},
     "output_type": "execute_result"
    }
   ],
   "source": [
    "state"
   ]
  },
  {
   "cell_type": "code",
   "execution_count": 10,
   "metadata": {},
   "outputs": [
    {
     "data": {
      "text/markdown": [
       "The output of the code generated is A Fibonacci sequence is the integer sequence of 0, 1, 1, 2, 3, 5, 8....\n",
       "The first two terms are 0 and 1. All other terms are obtained by adding the preceding two terms. This means to say the nth term is the sum of (n-1)th and (n-2)th term.\n",
       "Source Code\n",
       "```\n",
       "Program to display the Fibonacci sequence up to n-th term\n",
       "nterms = int(input(\"How many terms? \"))\n",
       "first two terms\n",
       "n1, n2 = 0, 1\n",
       "count = 0\n",
       "check if the number of terms is valid\n",
       "if nterms <= 0:\n",
       "   print(\"Please enter a positive integer\") [...] if there is only one term, return n1\n",
       "elif nterms == 1:\n",
       "   print(\"Fibonacci sequence upto\",nterms,\":\")\n",
       "   print(n1)\n",
       "generate fibonacci sequence\n",
       "else:\n",
       "   print(\"Fibonacci sequence:\")\n",
       "   while count < nterms:\n",
       "       print(n1)\n",
       "       nth = n1 + n2\n",
       "       # update values\n",
       "       n1 = n2\n",
       "       n2 = nth\n",
       "       count += 1\n",
       "```\n",
       "Output\n",
       "How many terms? 7\n",
       "Fibonacci sequence:\n",
       "0\n",
       "1\n",
       "1\n",
       "2\n",
       "3\n",
       "5\n",
       "8\n",
       "Here, we store the number of terms in nterms. We initialize the first term to 0 and the second term to 1. [...] If the number of terms is more than 2, we use a while loop to find the next term in the sequence by adding the preceding two terms. We then interchange the variables (update it) and continue on with the process.\n",
       "You can also print the Fibonacci sequence using recursion.\n",
       "Before we wrap up, let's put your understanding of this example to the test! Can you solve the following challenge?\n",
       "Challenge:\n",
       "Write a function to get the Fibonacci sequence less than a given number."
      ],
      "text/plain": [
       "<IPython.core.display.Markdown object>"
      ]
     },
     "metadata": {},
     "output_type": "display_data"
    },
    {
     "data": {
      "text/markdown": [
       "The wikipedia says :: An algorithm is fundamentally a set of rules or defined procedures that is typically designed and used to solve a specific problem or a broad set of problems. \n",
       "Broadly, algorithms define process(es), sets of rules, or methodologies that are to be followed in calculations, data processing, data mining, pattern recognition, automated reasoning or other problem-solving operations. With the increasing automation of services, more and more decisions are being made by algorithms. Some general examples are; risk assessments, anticipatory policing, and pattern recognition technology.\n",
       "The following is a list of well-known algorithms along with one-line descriptions for each."
      ],
      "text/plain": [
       "<IPython.core.display.Markdown object>"
      ]
     },
     "metadata": {},
     "output_type": "display_data"
    },
    {
     "data": {
      "text/markdown": [
       "The YouTube videos suggested are:"
      ],
      "text/plain": [
       "<IPython.core.display.Markdown object>"
      ]
     },
     "metadata": {},
     "output_type": "display_data"
    },
    {
     "data": {
      "text/markdown": [
       "1. #38 Python Tutorial for Beginners | Fibonacci Sequence\n",
       "   https://www.youtube.com/watch?v=7Sv4NmvdHcw"
      ],
      "text/plain": [
       "<IPython.core.display.Markdown object>"
      ]
     },
     "metadata": {},
     "output_type": "display_data"
    },
    {
     "data": {
      "text/markdown": [
       "2. Generate the Fibonacci Sequence With Python\n",
       "   https://www.youtube.com/watch?v=I_Giq4-2Pn8"
      ],
      "text/plain": [
       "<IPython.core.display.Markdown object>"
      ]
     },
     "metadata": {},
     "output_type": "display_data"
    },
    {
     "data": {
      "text/markdown": [
       "3. Fibonacci Series in Python\n",
       "   https://www.youtube.com/watch?v=Ib1bSQdXBZ0"
      ],
      "text/plain": [
       "<IPython.core.display.Markdown object>"
      ]
     },
     "metadata": {},
     "output_type": "display_data"
    },
    {
     "data": {
      "text/markdown": [
       "4. Fibonacci series using recursive function in Python\n",
       "   https://www.youtube.com/watch?v=Es5mHeflNCA"
      ],
      "text/plain": [
       "<IPython.core.display.Markdown object>"
      ]
     },
     "metadata": {},
     "output_type": "display_data"
    },
    {
     "data": {
      "text/markdown": [
       "5. Python program to print fibonacci series upto n terms using for loop\n",
       "   https://www.youtube.com/watch?v=K9Qr8bL8_UU"
      ],
      "text/plain": [
       "<IPython.core.display.Markdown object>"
      ]
     },
     "metadata": {},
     "output_type": "display_data"
    }
   ],
   "source": [
    "from IPython.display import display,Markdown\n",
    "for i in state['final_output']:\n",
    "    display(Markdown(i))\n"
   ]
  },
  {
   "cell_type": "code",
   "execution_count": 8,
   "metadata": {},
   "outputs": [],
   "source": [
    "state = {'user_query': 'Writing a code for fibonacci sequence', 'tasks': ['Generate Python code for calculating the Fibonacci sequence up to a given number of terms.', 'Test the generated code with a small number of terms (e.g., 10) to verify its correctness.', 'Optimize the code for efficiency if necessary (e.g., using dynamic programming or memoization).', 'Thoroughly test the optimized code with a larger number of terms to ensure its accuracy and performance.', 'Add comprehensive comments and documentation to the code.', 'If needed, search for examples of Fibonacci sequence code implementations online for comparison and learning.'], 'tool': ['code_writer', 'code_executor', 'code_writer', 'code_executor', 'code_writer', 'web_search'], 'current_task_index': 0, 'final_output': ['The output of the code generated is A Fibonacci sequence is the integer sequence of 0, 1, 1, 2, 3, 5, 8....\\nThe first two terms are 0 and 1. All other terms are obtained by adding the preceding two terms. This means to say the nth term is the sum of (n-1)th and (n-2)th term.\\nSource Code\\n```\\nProgram to display the Fibonacci sequence up to n-th term\\nnterms = int(input(\"How many terms? \"))\\nfirst two terms\\nn1, n2 = 0, 1\\ncount = 0\\ncheck if the number of terms is valid\\nif nterms <= 0:\\n   print(\"Please enter a positive integer\") [...] if there is only one term, return n1\\nelif nterms == 1:\\n   print(\"Fibonacci sequence upto\",nterms,\":\")\\n   print(n1)\\ngenerate fibonacci sequence\\nelse:\\n   print(\"Fibonacci sequence:\")\\n   while count < nterms:\\n       print(n1)\\n       nth = n1 + n2\\n       # update values\\n       n1 = n2\\n       n2 = nth\\n       count += 1\\n```\\nOutput\\nHow many terms? 7\\nFibonacci sequence:\\n0\\n1\\n1\\n2\\n3\\n5\\n8\\nHere, we store the number of terms in nterms. We initialize the first term to 0 and the second term to 1. [...] If the number of terms is more than 2, we use a while loop to find the next term in the sequence by adding the preceding two terms. We then interchange the variables (update it) and continue on with the process.\\nYou can also print the Fibonacci sequence using recursion.\\nBefore we wrap up, let\\'s put your understanding of this example to the test! Can you solve the following challenge?\\nChallenge:\\nWrite a function to get the Fibonacci sequence less than a given number.', 'The wikipedia says :: An algorithm is fundamentally a set of rules or defined procedures that is typically designed and used to solve a specific problem or a broad set of problems. \\nBroadly, algorithms define process(es), sets of rules, or methodologies that are to be followed in calculations, data processing, data mining, pattern recognition, automated reasoning or other problem-solving operations. With the increasing automation of services, more and more decisions are being made by algorithms. Some general examples are; risk assessments, anticipatory policing, and pattern recognition technology.\\nThe following is a list of well-known algorithms along with one-line descriptions for each.', 'The YouTube videos suggested are:', '1. #38 Python Tutorial for Beginners | Fibonacci Sequence\\n   https://www.youtube.com/watch?v=7Sv4NmvdHcw', '2. Generate the Fibonacci Sequence With Python\\n   https://www.youtube.com/watch?v=I_Giq4-2Pn8', '3. Fibonacci Series in Python\\n   https://www.youtube.com/watch?v=Ib1bSQdXBZ0', '4. Fibonacci series using recursive function in Python\\n   https://www.youtube.com/watch?v=Es5mHeflNCA', '5. Python program to print fibonacci series upto n terms using for loop\\n   https://www.youtube.com/watch?v=K9Qr8bL8_UU'], 'grade': 3}\n",
    "               "
   ]
  },
  {
   "cell_type": "code",
   "execution_count": 9,
   "metadata": {},
   "outputs": [
    {
     "data": {
      "text/plain": [
       "['The output of the code generated is A Fibonacci sequence is the integer sequence of 0, 1, 1, 2, 3, 5, 8....\\nThe first two terms are 0 and 1. All other terms are obtained by adding the preceding two terms. This means to say the nth term is the sum of (n-1)th and (n-2)th term.\\nSource Code\\n```\\nProgram to display the Fibonacci sequence up to n-th term\\nnterms = int(input(\"How many terms? \"))\\nfirst two terms\\nn1, n2 = 0, 1\\ncount = 0\\ncheck if the number of terms is valid\\nif nterms <= 0:\\n   print(\"Please enter a positive integer\") [...] if there is only one term, return n1\\nelif nterms == 1:\\n   print(\"Fibonacci sequence upto\",nterms,\":\")\\n   print(n1)\\ngenerate fibonacci sequence\\nelse:\\n   print(\"Fibonacci sequence:\")\\n   while count < nterms:\\n       print(n1)\\n       nth = n1 + n2\\n       # update values\\n       n1 = n2\\n       n2 = nth\\n       count += 1\\n```\\nOutput\\nHow many terms? 7\\nFibonacci sequence:\\n0\\n1\\n1\\n2\\n3\\n5\\n8\\nHere, we store the number of terms in nterms. We initialize the first term to 0 and the second term to 1. [...] If the number of terms is more than 2, we use a while loop to find the next term in the sequence by adding the preceding two terms. We then interchange the variables (update it) and continue on with the process.\\nYou can also print the Fibonacci sequence using recursion.\\nBefore we wrap up, let\\'s put your understanding of this example to the test! Can you solve the following challenge?\\nChallenge:\\nWrite a function to get the Fibonacci sequence less than a given number.',\n",
       " 'The wikipedia says :: An algorithm is fundamentally a set of rules or defined procedures that is typically designed and used to solve a specific problem or a broad set of problems. \\nBroadly, algorithms define process(es), sets of rules, or methodologies that are to be followed in calculations, data processing, data mining, pattern recognition, automated reasoning or other problem-solving operations. With the increasing automation of services, more and more decisions are being made by algorithms. Some general examples are; risk assessments, anticipatory policing, and pattern recognition technology.\\nThe following is a list of well-known algorithms along with one-line descriptions for each.',\n",
       " 'The YouTube videos suggested are:',\n",
       " '1. #38 Python Tutorial for Beginners | Fibonacci Sequence\\n   https://www.youtube.com/watch?v=7Sv4NmvdHcw',\n",
       " '2. Generate the Fibonacci Sequence With Python\\n   https://www.youtube.com/watch?v=I_Giq4-2Pn8',\n",
       " '3. Fibonacci Series in Python\\n   https://www.youtube.com/watch?v=Ib1bSQdXBZ0',\n",
       " '4. Fibonacci series using recursive function in Python\\n   https://www.youtube.com/watch?v=Es5mHeflNCA',\n",
       " '5. Python program to print fibonacci series upto n terms using for loop\\n   https://www.youtube.com/watch?v=K9Qr8bL8_UU']"
      ]
     },
     "execution_count": 9,
     "metadata": {},
     "output_type": "execute_result"
    }
   ],
   "source": [
    "state['final_output']"
   ]
  },
  {
   "cell_type": "code",
   "execution_count": null,
   "metadata": {},
   "outputs": [
    {
     "data": {
      "text/markdown": [
       "The output of the code generated is A Fibonacci sequence is the integer sequence of 0, 1, 1, 2, 3, 5, 8....\n",
       "The first two terms are 0 and 1. All other terms are obtained by adding the preceding two terms. This means to say the nth term is the sum of (n-1)th and (n-2)th term.\n",
       "Source Code\n",
       "```\n",
       "Program to display the Fibonacci sequence up to n-th term\n",
       "nterms = int(input(\"How many terms? \"))\n",
       "first two terms\n",
       "n1, n2 = 0, 1\n",
       "count = 0\n",
       "check if the number of terms is valid\n",
       "if nterms <= 0:\n",
       "   print(\"Please enter a positive integer\") [...] if there is only one term, return n1\n",
       "elif nterms == 1:\n",
       "   print(\"Fibonacci sequence upto\",nterms,\":\")\n",
       "   print(n1)\n",
       "generate fibonacci sequence\n",
       "else:\n",
       "   print(\"Fibonacci sequence:\")\n",
       "   while count < nterms:\n",
       "       print(n1)\n",
       "       nth = n1 + n2\n",
       "       # update values\n",
       "       n1 = n2\n",
       "       n2 = nth\n",
       "       count += 1\n",
       "```\n",
       "Output\n",
       "How many terms? 7\n",
       "Fibonacci sequence:\n",
       "0\n",
       "1\n",
       "1\n",
       "2\n",
       "3\n",
       "5\n",
       "8\n",
       "Here, we store the number of terms in nterms. We initialize the first term to 0 and the second term to 1. [...] If the number of terms is more than 2, we use a while loop to find the next term in the sequence by adding the preceding two terms. We then interchange the variables (update it) and continue on with the process.\n",
       "You can also print the Fibonacci sequence using recursion.\n",
       "Before we wrap up, let's put your understanding of this example to the test! Can you solve the following challenge?\n",
       "Challenge:\n",
       "Write a function to get the Fibonacci sequence less than a given number."
      ],
      "text/plain": [
       "<IPython.core.display.Markdown object>"
      ]
     },
     "metadata": {},
     "output_type": "display_data"
    },
    {
     "data": {
      "text/markdown": [
       "The wikipedia says :: An algorithm is fundamentally a set of rules or defined procedures that is typically designed and used to solve a specific problem or a broad set of problems. \n",
       "Broadly, algorithms define process(es), sets of rules, or methodologies that are to be followed in calculations, data processing, data mining, pattern recognition, automated reasoning or other problem-solving operations. With the increasing automation of services, more and more decisions are being made by algorithms. Some general examples are; risk assessments, anticipatory policing, and pattern recognition technology.\n",
       "The following is a list of well-known algorithms along with one-line descriptions for each."
      ],
      "text/plain": [
       "<IPython.core.display.Markdown object>"
      ]
     },
     "metadata": {},
     "output_type": "display_data"
    },
    {
     "data": {
      "text/markdown": [
       "The YouTube videos suggested are:"
      ],
      "text/plain": [
       "<IPython.core.display.Markdown object>"
      ]
     },
     "metadata": {},
     "output_type": "display_data"
    },
    {
     "data": {
      "text/markdown": [
       "1. #38 Python Tutorial for Beginners | Fibonacci Sequence\n",
       "   https://www.youtube.com/watch?v=7Sv4NmvdHcw"
      ],
      "text/plain": [
       "<IPython.core.display.Markdown object>"
      ]
     },
     "metadata": {},
     "output_type": "display_data"
    },
    {
     "data": {
      "text/markdown": [
       "2. Generate the Fibonacci Sequence With Python\n",
       "   https://www.youtube.com/watch?v=I_Giq4-2Pn8"
      ],
      "text/plain": [
       "<IPython.core.display.Markdown object>"
      ]
     },
     "metadata": {},
     "output_type": "display_data"
    },
    {
     "data": {
      "text/markdown": [
       "3. Fibonacci Series in Python\n",
       "   https://www.youtube.com/watch?v=Ib1bSQdXBZ0"
      ],
      "text/plain": [
       "<IPython.core.display.Markdown object>"
      ]
     },
     "metadata": {},
     "output_type": "display_data"
    },
    {
     "data": {
      "text/markdown": [
       "4. Fibonacci series using recursive function in Python\n",
       "   https://www.youtube.com/watch?v=Es5mHeflNCA"
      ],
      "text/plain": [
       "<IPython.core.display.Markdown object>"
      ]
     },
     "metadata": {},
     "output_type": "display_data"
    },
    {
     "data": {
      "text/markdown": [
       "5. Python program to print fibonacci series upto n terms using for loop\n",
       "   https://www.youtube.com/watch?v=K9Qr8bL8_UU"
      ],
      "text/plain": [
       "<IPython.core.display.Markdown object>"
      ]
     },
     "metadata": {},
     "output_type": "display_data"
    }
   ],
   "source": [
    "\n",
    "from IPython.display import display,Markdown\n",
    "for i in state['final_output']:\n",
    "    display(Markdown(i))\n"
   ]
  },
  {
   "cell_type": "code",
   "execution_count": null,
   "metadata": {},
   "outputs": [],
   "source": []
  }
 ],
 "metadata": {
  "kernelspec": {
   "display_name": "planning",
   "language": "python",
   "name": "python3"
  },
  "language_info": {
   "codemirror_mode": {
    "name": "ipython",
    "version": 3
   },
   "file_extension": ".py",
   "mimetype": "text/x-python",
   "name": "python",
   "nbconvert_exporter": "python",
   "pygments_lexer": "ipython3",
   "version": "3.13.2"
  }
 },
 "nbformat": 4,
 "nbformat_minor": 2
}
